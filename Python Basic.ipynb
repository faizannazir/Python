{
 "cells": [
  {
   "cell_type": "markdown",
   "metadata": {},
   "source": [
    "Python Basic\n",
    "                "
   ]
  },
  {
   "cell_type": "markdown",
   "metadata": {},
   "source": [
    " Print statement"
   ]
  },
  {
   "cell_type": "code",
   "execution_count": 39,
   "metadata": {},
   "outputs": [
    {
     "name": "stdout",
     "output_type": "stream",
     "text": [
      "Hello World!\n",
      "Hello faizan\n"
     ]
    }
   ],
   "source": [
    "print(\"Hello World!\") # Print statement in Python\n",
    "name = \"faizan\"\n",
    "print(f\"Hello {name}\")  # formating string \n"
   ]
  },
  {
   "cell_type": "markdown",
   "metadata": {},
   "source": [
    "Variables declarations "
   ]
  },
  {
   "cell_type": "code",
   "execution_count": 7,
   "metadata": {},
   "outputs": [
    {
     "name": "stdout",
     "output_type": "stream",
     "text": [
      "29 \n",
      " Faizan \n",
      " 20.9 \n",
      " True \n",
      " None\n"
     ]
    }
   ],
   "source": [
    "a=29         # int type data\n",
    "b=\"Faizan\"   # string \n",
    "c=20.9       # Float \n",
    "d=True       # Boolean\n",
    "e=None       # None Type\n",
    "print(a,\"\\n\",b,\"\\n\",c,\"\\n\",d,\"\\n\",e)  # \\n for new line "
   ]
  },
  {
   "cell_type": "markdown",
   "metadata": {},
   "source": [
    "Take Input from user "
   ]
  },
  {
   "cell_type": "code",
   "execution_count": 14,
   "metadata": {},
   "outputs": [
    {
     "name": "stdout",
     "output_type": "stream",
     "text": [
      "Name:  faizan\n",
      "Age : 21 \n"
     ]
    }
   ],
   "source": [
    "Name = input(\"Enter your name: \")   # Promote and wait for user input \n",
    "age = int(input(\"Enter Your age : \")) # User input is always string so we need to convert\n",
    "print(\"Name: \",Name)\n",
    "print(f\"Age : {age} \")  # formating string\n"
   ]
  },
  {
   "cell_type": "markdown",
   "metadata": {},
   "source": [
    "Conditional Statement"
   ]
  },
  {
   "cell_type": "code",
   "execution_count": 17,
   "metadata": {},
   "outputs": [
    {
     "name": "stdout",
     "output_type": "stream",
     "text": [
      " Number is Positive \n"
     ]
    }
   ],
   "source": [
    "n=int(input(\" Enter number: \"))\n",
    "if(n>0):\n",
    "    print(\" Number is Positive \")\n",
    "elif(n<0):\n",
    "    print(\" Number is Negative \")\n",
    "else:\n",
    "    print(\" Number is zero \")"
   ]
  },
  {
   "cell_type": "markdown",
   "metadata": {},
   "source": [
    " String Sequence "
   ]
  },
  {
   "cell_type": "code",
   "execution_count": 2,
   "metadata": {},
   "outputs": [
    {
     "name": "stdout",
     "output_type": "stream",
     "text": [
      "B\n",
      "SCS6\n",
      "A\n",
      "BSCS6A\n",
      "BSCS6\n",
      "BSCS6A\n",
      "BSCS6A\n",
      "A6SCSB\n"
     ]
    }
   ],
   "source": [
    "name =\"BSCS6A\"\n",
    "print(name[0])      # Print first letter\n",
    "print(name[1:5])    # Print Letter from 1 to 4\n",
    "print(name[-1])     # Print last letter\n",
    "print(name[:])      # Print all Letters\n",
    "print(name[:-1])    # Print all letters excluding last letter\n",
    "print(name[0:])     # Print all letters\n",
    "print(name[::])     # Print all letters\n",
    "print(name[::-1])   # Print all letters in reverse order\n"
   ]
  },
  {
   "cell_type": "markdown",
   "metadata": {},
   "source": [
    "For loop "
   ]
  },
  {
   "cell_type": "code",
   "execution_count": 24,
   "metadata": {},
   "outputs": [
    {
     "name": "stdout",
     "output_type": "stream",
     "text": [
      "f\n",
      "a\n",
      "i\n",
      "z\n",
      "a\n",
      "n\n",
      "\n",
      "\n",
      "0\n",
      "1\n",
      "2\n",
      "3\n",
      "4\n",
      "5\n",
      "6\n",
      "7\n",
      "8\n",
      "9\n"
     ]
    }
   ],
   "source": [
    "name =\"faizan\"\n",
    "for i in name:\n",
    "    print(i)\n",
    "print(\"\\n\")\n",
    "\n",
    "for i in range(10):     # range predefined function\n",
    "    print(i)"
   ]
  },
  {
   "cell_type": "markdown",
   "metadata": {},
   "source": [
    "List \n",
    "\n",
    "      (Mutable Sequence)\n",
    "                 "
   ]
  },
  {
   "cell_type": "code",
   "execution_count": 12,
   "metadata": {},
   "outputs": [
    {
     "name": "stdout",
     "output_type": "stream",
     "text": [
      "Ali\n",
      "Faizan\n",
      "Jamal\n",
      "Malik\n",
      "Sharyar\n",
      "Shazaib\n",
      "\n",
      "\n",
      "Faizan\n",
      "Ali\n",
      "unknown\n",
      "20\n",
      "60.5\n",
      "60\n"
     ]
    }
   ],
   "source": [
    "l1 = [\"Faizan\", \"Ali\",\"unknown\",20,60.5]   # can contain diff type of data unlike array\n",
    "l1.append(60)   # append (build in function) add a value to the end of list\n",
    "name = [\"Faizan\",\"Ali\",\"Malik\",\"Jamal\",\"Shazaib\",\"Sharyar\"]\n",
    "name.sort()       # sort (build in function) to sort list applied on same type of data list\n",
    "for name in  name:      #iterate through list using for loop\n",
    "    print(name)\n",
    "print(end= \"\\n\\n\")\n",
    "for i in l1:\n",
    "    print(i)"
   ]
  },
  {
   "cell_type": "markdown",
   "metadata": {},
   "source": [
    "Tuples\n",
    "\n",
    "      (immutable Sequence)\n",
    "                 "
   ]
  },
  {
   "cell_type": "code",
   "execution_count": 9,
   "metadata": {},
   "outputs": [
    {
     "data": {
      "text/plain": [
       "('faizan', 5, 25, 80, 90.0)"
      ]
     },
     "execution_count": 9,
     "metadata": {},
     "output_type": "execute_result"
    }
   ],
   "source": [
    "tuple = (\"faizan\",5,25,80,90.0)\n",
    "tuple"
   ]
  },
  {
   "cell_type": "markdown",
   "metadata": {},
   "source": [
    "Set \n",
    "\n",
    "      (Collection of unique values)\n",
    "                 "
   ]
  },
  {
   "cell_type": "code",
   "execution_count": 28,
   "metadata": {},
   "outputs": [
    {
     "name": "stdout",
     "output_type": "stream",
     "text": [
      "{1, 2, 3, 4, 'hello'}\n",
      "Length of list is 5\n"
     ]
    }
   ],
   "source": [
    "s = {1,2,3,4,\"hello\"}  # set cannot contain element twice\n",
    "s.add(5)        # add element to set \n",
    "s.remove(5)     # remove element from set\n",
    "length= len(s)          # calculate len of set \n",
    "print(s)\n",
    "print(f\"Length of list is {length}\")\n"
   ]
  },
  {
   "cell_type": "markdown",
   "metadata": {},
   "source": [
    "Dict \n",
    "\n",
    "      Mutable\n",
    "      (key: value)\n",
    "                 "
   ]
  },
  {
   "cell_type": "code",
   "execution_count": 13,
   "metadata": {},
   "outputs": [
    {
     "name": "stdout",
     "output_type": "stream",
     "text": [
      "0 Name: Faizan Nazir\n",
      "1 id: 19-ARID-5157\n"
     ]
    }
   ],
   "source": [
    "dict = {\"Name\" : \"Faizan Nazir\",\"id\" : \"19-ARID-5158\"}\n",
    "dict[\"id\"] = \"19-ARID-5157\"      # change value of id\n",
    "\n",
    "for x ,y in enumerate (dict):    # enumerate is predefined function which will give index numbers and key values\n",
    "    print(x,y,end=\": \")           #  end will define end point of line by default it is \\n which mean new line\n",
    "    print(dict[y])               #  x hold index numbers and y hold keys we itterate dictionary through its keys to get its correspondent value\n"
   ]
  },
  {
   "cell_type": "markdown",
   "metadata": {},
   "source": [
    "Functions"
   ]
  },
  {
   "cell_type": "code",
   "execution_count": 1,
   "metadata": {},
   "outputs": [
    {
     "name": "stdout",
     "output_type": "stream",
     "text": [
      "85\n",
      "Square of 0 is 0\n",
      "Square of 1 is 1\n",
      "Square of 2 is 4\n",
      "Square of 3 is 9\n",
      "Square of 4 is 16\n",
      "Square of 5 is 25\n",
      "Square of 6 is 36\n",
      "Square of 7 is 49\n",
      "Square of 8 is 64\n",
      "Square of 9 is 81\n"
     ]
    },
    {
     "data": {
      "text/plain": [
       "''"
      ]
     },
     "execution_count": 1,
     "metadata": {},
     "output_type": "execute_result"
    }
   ],
   "source": [
    "def calc(a,b):\n",
    "    print(a+b)\n",
    "\n",
    "def sqr(a):\n",
    "    return a*a\n",
    "\n",
    "calc(5,80)\n",
    "for i in range(10):\n",
    "    print(f\"Square of {i} is {sqr(i)}\")\n",
    "\n",
    "\n",
    "\"\"\"\n",
    "we can import functiom from diff file or module\n",
    "\n",
    "\"\"\"\n",
    "\n",
    "\"\"\"\n",
    "from [module/file name] import [function name]\n",
    "\n",
    "\"\"\"\n",
    "\n",
    "\"\"\" \n",
    "we can import whole module by just typing\n",
    "import module name\n",
    "\n",
    "then when we want to use any function from module then we have to say\n",
    "module name.function name\n",
    "\n",
    "\"\"\"\n",
    "\"\"\n"
   ]
  }
 ],
 "metadata": {
  "interpreter": {
   "hash": "2be5faf79681da6f2a61fdfdd5405d65d042280f7fba6178067603e3a2925119"
  },
  "kernelspec": {
   "display_name": "Python 3.10.1 64-bit",
   "language": "python",
   "name": "python3"
  },
  "language_info": {
   "codemirror_mode": {
    "name": "ipython",
    "version": 3
   },
   "file_extension": ".py",
   "mimetype": "text/x-python",
   "name": "python",
   "nbconvert_exporter": "python",
   "pygments_lexer": "ipython3",
   "version": "3.10.2"
  },
  "orig_nbformat": 4
 },
 "nbformat": 4,
 "nbformat_minor": 2
}
