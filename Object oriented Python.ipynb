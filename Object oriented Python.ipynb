{
 "cells": [
  {
   "cell_type": "markdown",
   "metadata": {},
   "source": [
    "OOP (Object Oriented Programming)"
   ]
  },
  {
   "cell_type": "code",
   "execution_count": 22,
   "metadata": {},
   "outputs": [
    {
     "name": "stdout",
     "output_type": "stream",
     "text": [
      " Congratulations Faizan. Your seat is resurved.Your seat number is 1  \n",
      " \n",
      " Congratulations Ali. Your seat is resurved.Your seat number is 2  \n",
      " \n",
      " Congratulations Shary. Your seat is resurved.Your seat number is 3  \n",
      " \n",
      " Congratulations Bilal. Your seat is resurved.Your seat number is 4  \n",
      " \n",
      " Congratulations Ameer. Your seat is resurved.Your seat number is 5  \n",
      " \n",
      " Sorry No seat available \n",
      "\n",
      " Sorry No seat available \n",
      "\n",
      " Sorry No seat available \n",
      "\n"
     ]
    }
   ],
   "source": [
    "class Flight():\n",
    "    def __init__(self,capacity):             # self is pointing to an object that we are current dealing with\n",
    "        self.capacity = capacity\n",
    "        self.passngers=[]\n",
    "\n",
    "    def add_passenger(self, name):\n",
    "        if not self.open_seats():\n",
    "            return False\n",
    "\n",
    "        else:\n",
    "             self.passngers.append(name)\n",
    "             return True\n",
    "\n",
    "    def open_seats(self):\n",
    "        return self.capacity - len(self.passngers)\n",
    "        \n",
    "\n",
    "flight=Flight(5)\n",
    "li = [\"Faizan\",\"Ali\",\"Shary\",\"Bilal\",\"Ameer\",\"Mateen\",\"Hamza\",\"Jamal\"]\n",
    "for k,i in enumerate(li):\n",
    "     j= flight.add_passenger(i)\n",
    "     if(j==True):\n",
    "         print(f\" Congratulations {flight.passngers[k]}. Your seat is resurved.Your seat number is {k+1}  \\n \")\n",
    "\n",
    "     else:\n",
    "         print(\" Sorry No seat available \\n\")"
   ]
  },
  {
   "cell_type": "markdown",
   "metadata": {},
   "source": [
    "Decorators \n",
    " \n",
    "          Add functionalities to function "
   ]
  },
  {
   "cell_type": "code",
   "execution_count": 28,
   "metadata": {},
   "outputs": [
    {
     "name": "stdout",
     "output_type": "stream",
     "text": [
      "About to run the function....\n",
      "Hello world!\n",
      "Done with the function..\n"
     ]
    }
   ],
   "source": [
    "\"\"\"Take function as input and modify it ( add feature to function) \"\"\"\n",
    "def decorator(f):                  \n",
    "    def wrap():\n",
    "        print(\"About to run the function....\")\n",
    "        f()\n",
    "        print(\"Done with the function..\")\n",
    "    return wrap\n",
    "\n",
    "\"\"\" \n",
    "Very useful in  web frmeworkd like Django \n",
    "If you want only login user see some information then you can use it\n",
    "\n",
    "\"\"\"\n",
    "@decorator                       \n",
    "def hello():\n",
    "    print(\"Hello world!\")\n",
    "\n",
    "hello()"
   ]
  },
  {
   "cell_type": "markdown",
   "metadata": {},
   "source": [
    "Lamda "
   ]
  },
  {
   "cell_type": "code",
   "execution_count": 10,
   "metadata": {},
   "outputs": [
    {
     "name": "stdout",
     "output_type": "stream",
     "text": [
      "[{'name': 'Ali', 'city': 'Rawalpindi'}, {'name': 'Faizan', 'city': 'PindiGheab'}, {'name': 'Hamza', 'city': 'Taxia'}, {'name': 'Shazaib', 'city': 'Wah'}]\n",
      "[{'name': 'Ali', 'city': 'Rawalpindi'}, {'name': 'Faizan', 'city': 'PindiGheab'}, {'name': 'Hamza', 'city': 'Taxia'}, {'name': 'Shazaib', 'city': 'Wah'}]\n"
     ]
    }
   ],
   "source": [
    "people = [\n",
    "    {  \"name\":\"Faizan\", \"city\" : \"PindiGheab\" },\n",
    "    {\"name\":\"Ali\",\"city\" : \"Rawalpindi\"},\n",
    "    {\"name\":\"Hamza\",\"city\" : \"Taxia\"},\n",
    "    { \"name\":\"Shazaib\",\"city\" : \"Wah\"}\n",
    "]\n",
    "\n",
    "\"\"\" Defining function which will use as key in sort (predefined function) to tell how to sort \"\"\"\n",
    "def f(person):\n",
    "    return person[\"name\"] # sorting by name\n",
    "\n",
    "people.sort(key=f)\n",
    "print(people)\n",
    "# Same as above with 1 line lamda function function will take person as input  and  person[\"name\"] will be output\n",
    "people.sort(key=lambda person: person[\"name\"])\n",
    "\n",
    "print(people)"
   ]
  },
  {
   "cell_type": "markdown",
   "metadata": {},
   "source": [
    "Exception \n",
    " \n",
    "           Handling Errors "
   ]
  },
  {
   "cell_type": "code",
   "execution_count": 7,
   "metadata": {},
   "outputs": [
    {
     "ename": "ZeroDivisionError",
     "evalue": "Error: Cannot divide by 0",
     "output_type": "error",
     "traceback": [
      "\u001b[1;31m---------------------------------------------------------------------------\u001b[0m",
      "\u001b[1;31mZeroDivisionError\u001b[0m                         Traceback (most recent call last)",
      "\u001b[1;32mf:\\Desktop folders\\Python\\Python\\Object oriented Python.ipynb Cell 8'\u001b[0m in \u001b[0;36m<cell line: 22>\u001b[1;34m()\u001b[0m\n\u001b[0;32m      <a href='vscode-notebook-cell:/f%3A/Desktop%20folders/Python/Python/Object%20oriented%20Python.ipynb#ch0000007?line=8'>9</a>\u001b[0m    \u001b[39mreturn\u001b[39;00m x\u001b[39m/\u001b[39my \n\u001b[0;32m     <a href='vscode-notebook-cell:/f%3A/Desktop%20folders/Python/Python/Object%20oriented%20Python.ipynb#ch0000007?line=12'>13</a>\u001b[0m \u001b[39m# try:\u001b[39;00m\n\u001b[0;32m     <a href='vscode-notebook-cell:/f%3A/Desktop%20folders/Python/Python/Object%20oriented%20Python.ipynb#ch0000007?line=13'>14</a>\u001b[0m \u001b[39m#     result = x/y\u001b[39;00m\n\u001b[0;32m     <a href='vscode-notebook-cell:/f%3A/Desktop%20folders/Python/Python/Object%20oriented%20Python.ipynb#ch0000007?line=14'>15</a>\u001b[0m \n\u001b[1;32m   (...)\u001b[0m\n\u001b[0;32m     <a href='vscode-notebook-cell:/f%3A/Desktop%20folders/Python/Python/Object%20oriented%20Python.ipynb#ch0000007?line=19'>20</a>\u001b[0m \u001b[39m#     print(\"Please enter integer numbers only. \")\u001b[39;00m\n\u001b[0;32m     <a href='vscode-notebook-cell:/f%3A/Desktop%20folders/Python/Python/Object%20oriented%20Python.ipynb#ch0000007?line=20'>21</a>\u001b[0m \u001b[39m#     sys.exit(1)\u001b[39;00m\n\u001b[1;32m---> <a href='vscode-notebook-cell:/f%3A/Desktop%20folders/Python/Python/Object%20oriented%20Python.ipynb#ch0000007?line=21'>22</a>\u001b[0m result \u001b[39m=\u001b[39m divide()\n\u001b[0;32m     <a href='vscode-notebook-cell:/f%3A/Desktop%20folders/Python/Python/Object%20oriented%20Python.ipynb#ch0000007?line=22'>23</a>\u001b[0m \u001b[39mprint\u001b[39m(\u001b[39mf\u001b[39m\u001b[39m\"\u001b[39m\u001b[39m \u001b[39m\u001b[39m{\u001b[39;00mresult\u001b[39m}\u001b[39;00m\u001b[39m\"\u001b[39m)\n",
      "\u001b[1;32mf:\\Desktop folders\\Python\\Python\\Object oriented Python.ipynb Cell 8'\u001b[0m in \u001b[0;36mdivide\u001b[1;34m()\u001b[0m\n\u001b[0;32m      <a href='vscode-notebook-cell:/f%3A/Desktop%20folders/Python/Python/Object%20oriented%20Python.ipynb#ch0000007?line=4'>5</a>\u001b[0m y\u001b[39m=\u001b[39m \u001b[39mint\u001b[39m(\u001b[39minput\u001b[39m(\u001b[39m\"\u001b[39m\u001b[39mEnter value of y: \u001b[39m\u001b[39m\"\u001b[39m))\n\u001b[0;32m      <a href='vscode-notebook-cell:/f%3A/Desktop%20folders/Python/Python/Object%20oriented%20Python.ipynb#ch0000007?line=5'>6</a>\u001b[0m \u001b[39mif\u001b[39;00m y\u001b[39m==\u001b[39m\u001b[39m0\u001b[39m:\n\u001b[1;32m----> <a href='vscode-notebook-cell:/f%3A/Desktop%20folders/Python/Python/Object%20oriented%20Python.ipynb#ch0000007?line=6'>7</a>\u001b[0m      \u001b[39mraise\u001b[39;00m \u001b[39mZeroDivisionError\u001b[39;00m(\u001b[39m\"\u001b[39m\u001b[39mError: Cannot divide by 0\u001b[39m\u001b[39m\"\u001b[39m)\n\u001b[0;32m      <a href='vscode-notebook-cell:/f%3A/Desktop%20folders/Python/Python/Object%20oriented%20Python.ipynb#ch0000007?line=7'>8</a>\u001b[0m      sys\u001b[39m.\u001b[39mexit(\u001b[39m1\u001b[39m)\n\u001b[0;32m      <a href='vscode-notebook-cell:/f%3A/Desktop%20folders/Python/Python/Object%20oriented%20Python.ipynb#ch0000007?line=8'>9</a>\u001b[0m \u001b[39mreturn\u001b[39;00m x\u001b[39m/\u001b[39my\n",
      "\u001b[1;31mZeroDivisionError\u001b[0m: Error: Cannot divide by 0"
     ]
    }
   ],
   "source": [
    "import sys\n",
    "\n",
    "def divide():\n",
    "   x=int(input(\"Enter value of x: \"))\n",
    "   y= int(input(\"Enter value of y: \"))\n",
    "   if y==0:\n",
    "        raise ZeroDivisionError(\"Error: Cannot divide by 0\")\n",
    "        sys.exit(1)\n",
    "   return x/y \n",
    "\n",
    "\n",
    "\n",
    "# try:\n",
    "#     result = x/y\n",
    "\n",
    "# except ZeroDivisionError:\n",
    "#     print(\"Error: Cannot divide by 0.\")\n",
    "#     sys.exit(1)\n",
    "# except ValueError:\n",
    "#     print(\"Please enter integer numbers only. \")\n",
    "#     sys.exit(1)\n",
    "result = divide()\n",
    "print(f\" {result}\")\n"
   ]
  }
 ],
 "metadata": {
  "interpreter": {
   "hash": "2be5faf79681da6f2a61fdfdd5405d65d042280f7fba6178067603e3a2925119"
  },
  "kernelspec": {
   "display_name": "Python 3.10.2 64-bit",
   "language": "python",
   "name": "python3"
  },
  "language_info": {
   "codemirror_mode": {
    "name": "ipython",
    "version": 3
   },
   "file_extension": ".py",
   "mimetype": "text/x-python",
   "name": "python",
   "nbconvert_exporter": "python",
   "pygments_lexer": "ipython3",
   "version": "3.10.2"
  },
  "orig_nbformat": 4
 },
 "nbformat": 4,
 "nbformat_minor": 2
}
